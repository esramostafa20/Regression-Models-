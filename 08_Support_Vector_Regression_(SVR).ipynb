{
  "nbformat": 4,
  "nbformat_minor": 0,
  "metadata": {
    "colab": {
      "provenance": [],
      "authorship_tag": "ABX9TyN31IgpkX/NJXTnxDzjc6id",
      "include_colab_link": true
    },
    "kernelspec": {
      "name": "python3",
      "display_name": "Python 3"
    },
    "language_info": {
      "name": "python"
    }
  },
  "cells": [
    {
      "cell_type": "markdown",
      "metadata": {
        "id": "view-in-github",
        "colab_type": "text"
      },
      "source": [
        "<a href=\"https://colab.research.google.com/github/esramostafa20/Regression-Models-/blob/main/8_Support_Vector_Regression_(SVR).ipynb\" target=\"_parent\"><img src=\"https://colab.research.google.com/assets/colab-badge.svg\" alt=\"Open In Colab\"/></a>"
      ]
    },
    {
      "cell_type": "markdown",
      "source": [
        "# 8. Support Vector Regression (SVR)\n",
        "\n",
        "![image.png](data:image/png;base64,iVBORw0KGgoAAAANSUhEUgAAAkcAAAC1CAIAAADa5MybAAAgAElEQVR4Ae2dvYsbydbG7z/QgQNlChUYPODAAgcWDjzgZIWDFTiweBfcMMEiHFzGgRluYMQEl2GDQWzgYYPdwcEFGQzaYKAnuIwTwzgw2sAgBwO64EDBBgoMCibol1Ofp6o/9DFfaukRy06ru+rUqd+pqqerulr+R4wPCIAACIAACKwKgX+sSkVQDxAAARAAARCIoWpoBCAAAiAAAqtDAKq2OrFETUAABEAABKBqaAMgAAIgAAKrQwCqtjqxRE1AAARAAASgamgDIAACIAACq0Og8KoWbQX02YpWJyaoCQiAAAiAwKIEEqp2FAqV8P8XHi1awhXng6pdMWCYBwEQAIEiEYCqFSla8BUEQAAEQCCfQJaqhUVZ0cNcLT/AuAoCIAACa0UAqrZW4UZlQQAEQGDFCcyvaufj0zdhrVJST97K1fqr3nBiMQ33q3TpfmfwrRvepsPWcRzHkXxeFx6NT/ebGyJ36W7z4AvlHP3ZqpWFvdJGc/90rI3JeVh1f6hPGDvVzpk658/Vzsf9tzv1e9q/UqX2ojc61wbODjZvBUGlFZky9BX8BQEQAAEQWAECc6ra+aDzUMlZqVKpaO0I7u6cflc0lKrdazTuqJRip4lSterDWhCUKreliAVB0Dx4F5bpVKV8S6VvvlMiuYiqyd0upUrlYb1+T5VS2oqkReVbECzt5pcVaFKoAgiAAAjcIIEsVVMCo/+ox2ynL4VOlJuHZ0p4JmeHTXFuY3cgq2GUI3i419dSZ+ZqQTmU86TJlz0xpwuCoBz+KaZO54O9+6LAp11pfRFVO95rvbdTx/G7hrDY6EpPMFe7wbaGokEABEDg6gnMo2rnar5l5lLSvdGbTVKOSrsvvmtVaxw6q3wqb0PPw+J4dPiDUJxHByNdz+GvNTp1vyPXHBdRNW1K/f3eFbJmVyy96/gKAiAAAiCwSgSyVC1tD+RZR8yu6odGhSSJr3LWpbIoVdPKpGGZ52r6RBxL0aq8lmoozsv1Q513MVWbfD052G21ntYqt80KKVTNYscRCIAACKwwgQVUTa/mGSoXUzVnM8hFVW1y+mpDTACD8u1q/Xmr9aIuvkPVTLRwAAIgAAKrTGAeVTvviX2Mpe0PDpHxW7HI561A6vmWTpo5V5uqas6vYSkFtSol53MqzeiwTppW3fuqi8UKpCaBvyAAAiCwDgTmUbV4Em2JLfnlsPe3gmN2ixhxmncF0mQki+5czT6ik8Wdjw6fyjcKMlRNrZGaR3qTwb/llhSdHrtF1qFRo44gAAJrTGAuVYvjcdSqyBU+2otvdvaXnxwO9Dthl6hq8Tc59wrEywC09b/0PPR2fzhzte9RKFXvVrlyu1IpB+UtJ72WSezsX+Mmj6qDAAisNIE5VS2O48mw96pe1e+ble7Wd972x1rS4ji+TFWL4/GnTvOuVKqSeJ9armTquZfecmJWKSdfDsMH2ekxV1vp1ozKgQAIgEBC1YAEBEAABEAABApLAKpW2NDBcRAAARAAgQQBqFoCCU6AAAiAAAgUlgBUrbChg+MgAAIgAAIJAlC1BBKcAAEQAAEQKCwBqFphQwfHQQAEQAAEEgSgagkkOAECIAACIFBYAlC1woYOjoMACIAACCQIQNUSSHACBEAABECgsASgaoUNHRwHARAAARBIEICqJZDgBAiAAAiAQGEJQNUKGzo4DgIgAAIgkCAAVUsgwQkQAAEQAIHCEoCqFTZ0cBwEQAAEQCBBAKqWQIITIAACIAAChSUAVSts6OA4CIAACIBAggBULYEEJ0AABEAABApLAKpW2NDBcRAAARAAgQQBqFoCCU6AAAiAAAgUlgBUrbChg+MgAAIgAAIJAlC1BBKcAAEQAAEQKCwBqFphQwfHQQAEQAAEEgSgagkkOAECIAACIFBYAlC1woYOjoMACIAACCQILLGqHYVBUO2cJVx2T0RbQXC/M3RPTvs27NwPgq1oWrKVuX4l9SXywQLwOVVyrLo/Z/S4ARynEJiZ6lmnOkMXSynhqk9R3w9l/1yog8/oXy4ogkOf8GhGawsmu8oKLuhS0bOlqNpwX0ZThFQ2ehHglOha4YlCmVz//xKGKms8D/JCbeJKRvk8L2/42uXXlxrJ3DcTSQq5w0oyOc7MRGBmqlC1zJsqGtBSRryZ+M+XaKERbL4i1i21r2oe4uF+KGZL6cMiJVYzHrcRCBW8BGFbt2gUp74s9Amn2Y124pp3Yubx18uHr3kEsql6oSmCquVVVF1zB58ZMugk2aCukEx2odot/L0gAU/VojBjRUJM4NSagC6SNyZ+TNcp/Rot8Wkka/N3TVVtMh7RZzxZ6kBnj5tQNSdw2aCgag6ogn1JqlrWcw5ft2Knh/hXM0c92VyO1Jq1Wj0nU/LDhJPZl9bY0qhNxguSx/R/8RGTRWq47KsMj23NzKZKZsTY2HEf71mD7nkbeG4za8I6s6txTMT0xy76ySpEsnZ6qYSioD5bkSxCuGXrG8fq2NbO2rRV0EfMoL3d4Sf91mLNkh8mTDwLf1bKHYvjmCVjXnFWkmcG4SlV47lMlPlJjVHXnv/9+7TzrFIuV+vPW60XB6cpssactxWPVTeRLVxXihdqPEm5F+Rjq+wOrDE43rLz1X1qFcmGlxIaZd967uay5zNXm1UntSmZBRkOt4kyP3nFKfa621KzSfR9GwpJUrby+50h/8rWDJk13t6c3pQFyokOhZIqwmlTAh1K2ThZFtPmhcvcvfudIa9+oGIkLZgKMlNmJcyYCiNmwbhEFrQ/xs46H3iqJjuhS1Pj8ei7X6lZG8qiJ7uNSRtRY7SKATUX+vCvZobntWzdCOS4bLoEd4OOjRu6PSmv6KtxSQ1/xil5kGysKgHLy4vTy7OemSg0VRBN0GJhCWd2NY62TD8RuJRxic7USEmCGVNU32CJ9SXFXHtFgdOXmH+x6v/2kuCpc4kxyFTTzefe7uTb4YFwmhDx0R3VYUVlZRHOq5owYkgqCzzismWaCjp1+tqpBUHtl0GKlul0vDFw5wUNp0O5ngifdU3JH06V2o8OsWzPPKXRTreZSVw2cNpD+ktGDAQzxOszrJ3LOwxDw6mRb5DdvghPdNEyHNp/1aLMV3FVV9axL4wYP+mSTiZaNbOwJbeJOS1HCaTO4oxFs4OilKygfFWzPcipVIa3lEYjIpS8gnRsAySs6YirhqS/CuMqcA49Hp11PU6omuCsbvlNy5B0nC7hrVVSw7IfLyOH6zQX2c1M63F7HSvOD5t3SRfH24cnfmaOInzxGxad5F2anNRdna6Z9OaAVynnODP9zK46xqkpq2ZNlk1vV7f5usXLPKwI7sb0jInsygdm0OmKjouJoZPnSli2jlHVdBwpGWsnZMGtGivRWkhEXCyDy4zMGsvrteGMSp3323eC4E57wHJOOWTt02lXbr2UEeZbDgTfjpjXStVJEOZMXE+5Y/rGxUgXa+eJJwjMScci7zXiQk4Tjbac0VzUSPSypHHmJ6udr17aE/c8WUvtvMn4ZoNyXKJkjBJrV1KTeOO0nrteaV85ZHnOVtApVFzkZ3zUWfZtSWt7lKpqirYQKt4+GMej0B1o3EtmwpTkyuOUGAFtQ3cv2cBLg7bpOC3VTeY1Wf6VH9vK2hsosu9/1FV1iWNJVpJomI81yxLO7CrlocTmo7qQXwV/yHDuAXlifkzG2TDE/EusutA1FnTXf57RvTWZYsc649RRVVbd7qSVlUrYWpMO2aoxz62v1BQTH66sMunH7VIQBKVK5bb8r7b32drgR1Sc/egWwtoqJU7xhNyWgyZZ4A7wzuLZsapms2tnfA76vBca59ZBpLEZc8JhrbmdVJ23flprxrjFo44EpSQTa4R1cKKhqTpOsMFHueSXI/rgPKA4+UQbtu3K6WXCJ+N5prceFlbBJAdetLGs6u7W2gGy7l9yVI3PUTRIvRqQGEMdxDzqPmCnuSS6GY8cO/bHtYxLbjKv9fCv/JgcdDOmDj1OPfT4ldLH5CV9Z+cXZKy4JXrJ2FfCZedkDCxLI4wmIsIrxRPzY8rJbBrvVOh1LfR51utc/3UC+ZdFR96ZZtuxziT9N0a9srIJW2syr60a89yYFdPBlAjaBPKIquPcqvsJ6LtQWXPPzgnw40KpWurdmF93r3aOznnhoK9+SzCEDTpzRguYjX6mTjiDT9p9gzSadMDzkFXOGab8jLZdpQ4d0vNMb/1CbQVTWikr2kft1pr5jsN8VeMjo2ClQuUv3Xir8PJreq9wmstyqJrfXJL3sKntJLVVeU3W+2rt2KZM57xk9ivvP64C2TTSKBl0hgZKoG/8eWJ+LMq2q5rWvRSldzuw67+T0Zlwu7msq2pGYp3xasotumXZLCIN/8qP6aK16bU6ZT01grxkcXzcmq5qXhPiX/nxLCuQPIiUV6/Pe3bcuZoOtHSe6pXe+zwjPhYL0KJL8HBOeAadcFtryi19T+xYUEKoqymuUelJVbNV9gy4cfQrZRKTP7OCcoykVUSHyW2cfEBzvTJe+J2djbFOoSIDP+OjzrJvS1rbI0/V2HP4lGV3fQu/FbqNQ92rOjdiFAOnpSrEPE7OnZ24ziPHjrObDmsTTo/KkwpHRcif5C2k6AC64YohXt7UDzvqAXValUUNuKuic6aPLzyZ4w8ZYb2IQUhutHFGLlERc0YWrcPEDHLjwuHM8cs1KLTKBtT1Xxgy//NCnGeHOeYlY1tCvLL4V5cws5aoGuXSAyXddQlZdU/GfMeHqU18frpdDjZe9/WZyeS7PjR/nSrTcGPL4hEU6d1CyWcdJrV9Q/cjaUcz9+2wQY0u2TYs7Ke3Ov60knxx3HYbXnY4TKXpQBRtb6ccT/xwyMS6dlR6qH5WRkAw3U0UbQBSdfSqrAi3BhKbzugV5FqjYUHPyB33xNCRJf8uGVGuY8RUmbungaiUGd46Q5Z3+5jXNsh57QOVZBsA5TL0nPCs6ZeEqjkr0qYBWTpyHLFNU12xiHVSv22p825z8e7rna8sijlNh1/ix442UNm86Ztj4aRTZdOFnEtaLZyTCQiyinIwIqNZW4e9puz65rmq+h6Zu9+J7LzKVEHz1nchsjbV/SGjwRPzY8HF2mSm5KEaX6RJ3qP8nunlpKLpo7Nk2nGdcZLZtscqIsvJIuxa43M1kU97JTzTP4PET5rR06tO/K0b3i5Xn7ZaL8L6vVr4LuUnvmS/ULVmTddp0touL1Q3LXXNscM7C7dJad0eR1fVJzzyOehiRTYeGm6fLroZM8LBranaOaWb6641eZqltM1DF60qoPbrq8bjRZ/xYcqtzeouSUWbj0NYpxT3AWkeSj/TyCiDWxH5oFXEc88Ld7q3Gqx0zLOQ2TbIc92hyEnbACiL9ke6v+b/91RtzWmsVPW93rJSdbuJyog3sJf8/etr5+IPtdfuAAoEgQQBqFoCyYqcsLdyK1IhVGMJCUDVljAoa+8SVG1VmsBZp6ofP8ilJCxKrEpol7geULUlDs7augZVW5nQ26dN9AAA6+wrE9hlrghUbZmjs66+QdXWNfKoNwiAAAisIgGo2ipGFXUCARAAgXUlAFVb18ij3iAAAiCwigSgaqsYVdQJBEAABNaVAFRtXSOPeoMACIDAKhKAqq1iVFEnEAABEFhXAlC1dY086g0CIAACq0gAqraKUUWdQAAEQGBdCUDV1jXyqDcIgAAIrCIBqNoqRhV1AgEQAIF1JQBVW9fIo94gAAIgsIoEoGqrGFXUCQRAAATWlQBUbV0jj3qDAAiAwCoSgKqtYlRRJxAAARBYVwJQtXWNPOoNAiAAAqtIAKq2ilFFnUAABEBgXQlA1dY18qg3CIAACKwiAajaKkYVdQIBEACBdSUAVVvXyKPeIAACILCKBKBqqxhV1AkEQAAE1pUAVG1dI7/69Z4M3nai0erXEzUEARDgBKBqnAaOV4DAqP++23nVqJWDIKh2zlagRqgCCIDAHASganPAQtIiEBj13/d6Hwb9f1ehakWIF3wEgUsmAFW7ZKAwtyQEhvtQtSUJBdwAgWslAFW7Vtwo7NoIQNWuDTUKAoGlIgBVW6pwwJlLIwBVuzSUMAQChSIAVStUuODszASgajOjQkIQWCkCULWVCicqYwhA1QwKHIDAWhGAqq1VuNeoskuhat9H/eOo/22yRtxRVRC4aQJQtZuOAMq/GgI3rmrjo1b9xUHvfXfnURA86gzOr6aesAoCIOASgKq5PPBtVQjctKoN2ver4bsh4fzebQRB/Xf8zMmqtC3UY7kJQNWWOz7wblECUtX2vmbmn3zXC4Pnk4k+zEydfSHDzmDvXlB+dSryDTv3g+DnKNsGrsxBYDIeXyBccxQ0U9Lz5XJnJp8vkiinvktDAqp2kQgj7xISGB78WKnQz2WpT/l2pfLqJOFoFD7vqZNHYXVfTKoSiWY4MYMdMVdrvru5ofh8Mh6NJ6uyBBpthctyg3A+OPyx0cm+c5qh/Sx3ksl45LeccfRzrXU0TvH7KAyPUk5f/ymo2vUzR4l5BAb/Ces/tE/Sek1etrmvReH9jpKyC6raNDv91xvlZ90bWn8cHjyW6p77k5hfu+HTsFuQ0XlpVG0S/VxZ2YXlcTeslETTaXS/u73rvN++V0vRcqiaywnfQEASEIt1QXD1N33XpGrjo1btp+7oZudJf4b5P4kZ/SyGr4uukY6ifx/2pzbkvw73ji8k8cuiah+3y3fag6n1LXCC0eEPQWBu2nhFPmyXkucXVrXJMNptVu+1ehdqF9Y/zNUsCxwtA4Hxp4Od3d7Vy8B1qNr4U7u1eyqmnf3e+4UXOS8clqMpqhZ/O+nsHpz+fcGCTrdL09cGR7/XL7DeSx4uh6qNDh4Fm28uaRi+IPg5sketR3qJYmqu8ygMgsrr1BuVQftO4C+qL6Bq3we9V5sbD8KDD6NLXKCHqk2NLRKsJIGrV7WvnfBVNByNRqPByW9h6wb3QE5VtUuJ8Of2RjBV1cbdp8EqqNpZpxrUDwsnajFr9lOD/nG7lL1q0n9dCZ52HSmaR9Umo5ODrVrlQevwr8t/2ABVmxpbJFiYAD1rHn056b3vj+J4Mh6ciH8jRm1bmIz6x73ecX/EVu1FBkrW/yYK/T4ejYb9497J10l8Phl9jnrvo/7l3NWx7u0/VxMFfRjw7RUTve1ucnYSOf0wy87pDtuxEgRB63hhjDbj5OtJ77dO5z9R/9vg5IN8bYAhionyaDQafo56/x3YEUermgrBsYtQQ+59dgbp8V/Rwe4OleXP4YjPwW6r/VvPovg72r4bBEGzSyo+GrOYWu/jyeBNvRwE1denMpX1kN5/GJy8P2jvHkSfpwTYn6tRRrdV5OzTY95c5HD0ez24t+cvP55PBh96rv92X+D4r+jkzKnxzA6IBqmjRm3guD9ecE2bNddpxYtdxI3u36Kffhj6rh+3giDscTdmU7XJWdR+Vq0+a0dffZPTPKLrooHTFpacxFC1HDi4dEEC/YMfNsQT53Dv12Zzt9t7391+GAQPO6fHO/Vn7e773sHWRnBr80D/25793+W/9qmeq42Ot8U//hlU/9Vp/dA6eN/r7TfLQTlM3YI1n7OsezuqRlu8mvu9ncdmX34ckyrUOv+L4/iUbl8D/vw8y8583syS+vRVpfavE5r8/e+k86QcbNFOQItIbuP866B+T8gpf+xB/pc2HtRECHrd3Xo52Nj+oO6RR8c79bsiSsIgeXI+6v5UqTzpnPxvNHjf2rhVsXvexqftR0H5STv6Mhodb5eDoPbrMB5Fey9a9TtBEGzUX7RaL1qpT876v7daP9VKQVB60GxRMvsQbvSuWbndPPg8HI0G0cta6VFbrtumYnFU7Wtn8/F2901YYTOn01fl4IqfeEVbgeRvPTwfdB5vbv/ngFx5q+4PhDC0RJwO60EQVNqpy3nWSPLofNB5Umv9Jlp+Oey8bjR2u4c/bwRPFpsosuaaLMs5Ix6q3SpXHlK/o37q/ZIAzVarzpsz01Rt/NfhzuON2tbByZT7FscP82X8sdO8XS7fq4cvWq03pzmyBlUz0HBwJQQGv1SDgD2BoJ0LQfC0q8ZUsevdWZL6ulfl6x7nPcpQ2j5Rd4X0Hljww2JdmleQdW+uap92NulBgihFb/0/fVkKStvy1bPBfu2GVC1q8UFkdFi3IkSIGEOx48ZXtaDx1i71iNG2xv6h8H67YodpcbVpdr6d/LMUlHdE9ce954RCxeITTUf1O3kxDfRTVyBpKOSuioh83C4HG+3PJjq0SpkTYqZqo8MnTWpJJNsb7S/SgqiLjh3d3P+dMwCaQuc6IMLeA6fR20bz3TgWzbX6i5zFCWFQbXUcbZUXULXTl5uaDD3lCp51JyMhkDy+VMkZ39xgzT6/xuKhWvBQ/yaOCJy7h4v8cc7kqtrkuFUKNlqLbhQS/a6292WmUELV8mOLqxclIIZI9gSCBqAg/NOYpb7BRuQ49vsPJSi9lJoSx3FiyDaW4ljuYc/6P0tIew5Sd/YP9rcPv8Xxl/ZGYB6Gu6PkeS/UCicMpttxy7qUb2KaeLfZ+c/JgNZf7NIW1cVhmEAkmfN3icStAxuXRRYlk6Igft9gtlCK0LBYxJO/7UrQoqomhn4HaSzaTEWP5j49q2qTqPUyiuNJ91lgJ2di0Dcb7id/NoNAzJZ8M2YxS6yGpv4vUw4Jl9No40n0auf0PJ68a1p9lXdsSuHi+OtelVO1/oyjF5Xy7e0oZdm2v/dCvxPyvw7dT9Fbj+PTN50eX8yc9KiSaUvcar3O1q7bvNeW67/mXPpy8We6z7GilXI7Qq1O+KNrkqtqlGjhvSH0yDbY2PVXfHXB/l+omk8E3y+XgBih2CYCf4T1RuR0VWMjSGLIXtDdPDUa7JKoqcmKO0rGfJJERefZWdC1jGzjD9sbRrErjUP7epnHMIHIZ64gs6f9TNXE+BXcqYtFQlpOFP/tRSM5JfJGc+vroqoWtQJ/+7hoM2Jt05q3R1bV5LnvXVISPeRN3jUCPqk9n6SP2rR4u6drZ6rpHdg1Uls8HSVVTV539ZV2W5S2P+qsH7fr6S/7CwJBeeeTTpn2V9aLTa+dROa5r3M2Hvb+5dWovlGqNVVM9aXfU5ZFvZtRUboXEWp1tP5sPlNVTaZU+/ib7ePEszpjyj2gxZIgKFUqldvivwd7KR6zLFA1BgOHV0CggKomhnizv0vMVMzzg8m7pruh+fpUjYIzGQ8+9A52G9VbQVDePlWrsouqml2mY6omF7hM9XmTEOrI7jD4Nb4COerzvSo8Fbvln3w9EXuCxNTQfeAkVc2ZBzAjvqqRV3ZiR+/emZnfVW0byVA1dyu8WHu3+ykGu/Ws2WdiCxKrrT6kmwaXkr7izJjNyYwD1lwzUsjTVBzbDiN0xazxqiRzrUD6pU1GJ2/C2t3NnbfTd77MdMPECoCqMRg4vAICBVQ1IRJ64cj1f9L9Sc/hFCs2TPDnc5dPkhUUxzGtyZifC/FUTTwU5M9dknM1sb7EXrdiqhbTm1jeADr+dNL/Tj/T3BTPRNnDjfHgk9psyYYe11WOgqnacL8qFrjE/MbdTUe7xoPNA7kPlmcXx56quQESy8VSksfRzsvO3o8l9y4kYW6RExN68pd8aV3UzqyuExAbhUH7yfyvbJ8Pulv15tuh2qZknqR+3G6qV+XG0b+2O/9ulJ65m+wzK5UdGjcLOW+KOz+hTVLmWbhMKdZXnWXPGedqvKDzyeD9zubdWvgmbweJ+JUAtt7DLaQdQ9XSqODc5RHw7ljFg322Xi+eCfFHNf5zNefx+5TnavN4zbq3r0Y0e9DPnMTOBbPp8XO77r+UmmNnHnemp41CvqXi28FmEEZqriamO2aQFc/M+I22ZK63MMRxLDZ92KmepmpGMdq+wXaXnPfbT9p9UZZ4aL+x80nr2uf2pn7kKaRI7A793m1mDbJiKJRs+6/ran/HmXxipDeznPfbd4KyNpsE46varzWzS2V8FJb1P48w+GWn+50e2mXN+ZKWZz9Dc5fkQzIxzVXFiVqYm4MxTfF1BWcvhnbPi/04n3Yq5tHp+aDzSOyRieP4y97Ouwm9ZpA6t04piDXXlKv2FC3Ca5sU9HIYee5TM2PPy2NaoLbP4aylWY4mw+N2816ot5Alsnj7iSYT/tZNInUMVUsywZnLInCyo35KLghulRu/nRz8aL6XKj8enPzWYN93TuL45FWlfEs+OypVXp0Mf2vor0GpsnPy3x37s8Xlys5/L+In696+qsXjo1blVmXzeSt8XGu96+3cC8qPwtaLRv3ZYeKfScuzcxH/EnmjsLxZf7Cx+bzVehFu3q3t6K35JEpvG5VbGw16XtJsvOwdPhcMb5UVoqMweHrYf9fa/DFsvWg1HpTLD3Yi5y00PlejksefOo1KUHkctl6E9YdN9gxvfLrfqNwq1Z62Ws8bmz8xIOOoVSFQ4eO8H/wd/LoZBBuNF43Nn+04OTnrte6Vq09F1W5XGvs5G/sTvy0iyt34sdV6XhfvkagpLP1bCqT93tw6wXWxE0ehXedkFqh2t6oNgrzZ+fOwUQmkY/VXC/2y6bjbLFebL8LNx9u9t61KZTN80Wo+brQ/aYWh8Z3m1jPPR1lzZW6nHI5Pdu5RF2j9WE20FkpOT9rsTFQYWFzVUsr3To3ehZUygW09r1cfhl39LpCXTH6FqqViwclCE5gMjzs7NMTvdN5nrdqz7p1QNao8/c69fZt48vdolL4jbpqdSwM5mYg9cmJXm915aM0zhylNqrciTdobrL6qSbNU67TUEk7aFQFNT+Ssb97R93Gqe6pqagLq5bFfvbma2CihstK6GXtTbbhfLf3zJJ52a29Nz35Ei7H2YZ6TT/kizzlfnGQzfiEDOtz82GQ/61TpXQvVPMzpjAPWXDNS8NPUAHTh/Lzcd2p26KhLV6lqoohZYULV3GDhW+EJjKOtan03GoyG/bct2jRYaZJGQewAAAwySURBVNlJga0d696pqmZT5h9dlp38Uq7m6ue92j05D6NteM468NUUeClWuaoNaflRb2oXK5lmT38cD9p3StsfYrEUeSklO0b6rzdIMm/6M9gVboilyBl8GXZ/z3t/eQYLIsm427jV8BcM81VN3lGZ9wlSDtL1c1aXWDqoGoOBwxUg8GG79LBtfuRpTPu8g9JWlJg/XJYaXZadG0AvJYF+CIP2nqT92yI34NT0Irmq0T6Cu9u0uid+smvjJV/oG3YeboS/tLffzPqe0/SyeYrvUatSp7cbb/Qz/LW28Xyv/fIgsTZ+hW71X1dr+wmq+ar21+G09yg6pylv7C1SC6jaItSQZ2kJyE3hdn+a/GmSlPdwo/Ch/vHyC87VLsfOTRCdDA6e1WqPN6uPwwPzqOYmHJmrTK5q8bde63F1U1bho37aZMxd1c5+XcDXzqb3O1L6ynX+5e/CX0e5n9vV1Frnq9p1eKbKgKpdI2wUdQ0Evnbqt6tiM7QsjHa9mz1yrPzT9q5ePvrU3kn7XQaWOOfwsuzkFIFLDoHTX/bML804F27iy/hTO/wl/53gm3Dr6sqcnLSfsy1CvKBPe3u5L5LztFd6DFW7UrwwftMExItZi/4U7E07j/JBAATmJwBVm58ZchSGgHgxqzhPjArDFY6CwBITgKotcXDg2sUIiHdya/blnotZQ24QAIFCEICqFSJMcHJ+Al87tUr9YLZ/umJ+68gBAiCwpASgaksaGLh1IQIkaWFP/XzG5PTXrB9fv1AhyAwCILCEBKBqSxgUuHQxAuOo9YC/eX26/Wgv8XLNxYpAbhAAgWUlAFVb1sjAr8UIjE/bD4OgrP8pptuVSqVkfqd1MZPIBQIgUCACULUCBQuuTieg3sI2/7qmONA/wD89O1KAAAgUnQBUregRhP8gAAIgAAKWAFTNssARCIAACIBA0QlA1YoeQfgPAiAAAiBgCUDVLAscgQAIgAAIFJ0AVK3oEYT/IAACIAAClgBUzbLAEQiAAAiAQNEJQNWKHkH4DwIgAAIgYAlA1SwLHIEACIAACBSdAFSt6BGE/yAAAiAAApYAVM2ywBEIgAAIgEDRCUDVih5B+A8CIAACIGAJQNUsCxyBAAiAAAgUnQBUregRhP8gAAIgAAKWAFTNssARCIAACIBA0QlA1YoeQfgPAiAAAiBgCUDVLAscgQAIgAAIFJ0AVK3oEYT/IAACIAAClgBUzbLAEQiAAAiAQNEJQNWKHkH4DwIgAAIgYAlA1SwLHIEACIAACBSdAFSt6BGE/yAAAiAAApYAVM2ywBEIgAAIgEDRCUDVih5B+A8CIAACIGAJQNUsCxyBAAiAAAgUnQBUregRhP8gAAIgAAKWAFTNssARCIAACIBA0QlA1YoeQfgPAiAAAiBgCUDVLAscgQAIgAAIFJ3A2qjaWacaVDtnC8Rr2LkfBFtRTs5oa0qCnLwXvXQUBkGY59xFC1g8fz4WuhoEwf3OcPESriUnbzl0HIRH11JuTiHcpZxkuAQCa0ngulVtuF91BjIxTDhnrigMiw8EULUFQ5Kjan4zWLCEa8nGW45orlC1a+GOQkBgQQI3q2pRGFzXLIePTS6ri4+wOcO3W9QVfCvmXO0mic0bhOyWM6+lS0s/k0t0N1bdX/aZ8KUxgSEQ0ARuUNWmz4G0k5fxN3sggKpdBt8UGznSlXMpxdDNnspuOTfm10wuQdVuLD4o+GYJzKpqf/zxx5b4/PHHHxfx2EgIjWuJZyp0VX/sOo/sw0f0SEM+Q5JjIkvsPFhi59kjkPSBQCirLlH6I43T/wN5q+uNDk4W6aTMIrHI0jPukcXcVBWnH/KRY/pjgahCpRt02V5y8au5mrXsFW0tZD1WPApd42TKwGfZ7cmY++w8cbRuBFsRx8KcZmkU4TiOU6iKLJJDRI82mVfa2hRKvCU4T0YlNFYLU19tmf3lLYcfTzHCqsljxwrl2CUrSduLoHSF1aXaob6g208cp8SIl2Ig85PcJVZXHILAChCYSdX++OOP/2Ofiwgbdc77nU6WpJnOJnqgGmtkbzSXdDfWnV8MiHpslfbVsotvxA4EPHJOFm2cDXNq6BRZxFCly4qPQpnMDt800qWXIpVA+xwP90O5dSXaMpLMKyKO7ThO5Zq83PmYSlRiT+dFlU1K61gci5RpvmWrmkNGV1YUYexwnx0nKW/28rLjWOxSdaogOZjinKobLdTBchwQY73L1jQhCU1/Fa6alF4REql2gHzTx3lGyBPtlVAdXVZGuJUymSyeE66HApdx46wTmmVGp/kROtMSYmrYpo48al5R+AoChScwk6ptbW0xUfu/ra2theutBjvW57WpKDQdVZyyAx8XJ3NJDxN0gjqz7LH5RvR4pIuUf8klZo3KZV/l0ClHBy+lMaNcFcNc1sBkq2OyJQ6YfX/cYZfcbM5ARpdsSuJmBjI1H+LDnDKUrWqpPkdbzlhp4NtytYOp2eVFfimZkZ3xOWjb8q9/1Wbk8iPT8jM+NEeE3CLyVY23KGuE3DC3PupWg6dUJVhv5b2U0+q4F9ayOsvrwhOK+wPdAglOSrhFel60YwBfQKD4BG5C1e53IrqRd/s5ddTERw4NiT7Mx0QKgVG1eYyY2Hk93DcuFsfk6OAP6NoEZblfzd3zTUOMHm50Nv2XspuPGtr8IclzUmdldTenDA068D8pw1y2qumVRh4pISS+VdLOJJwESeOimJrocT+ZUZQr9djnYE3QkX/VUvIrpRKrEBhEypyVDbJgPsnmx5tithEnoMqaZehc1UqWw4rR0LXnbugJuvFaNzMfjpiumVTerZu2jL8gUHwCM6napa9ADuWUggsbdVQ+sWBovT4sb2z1mEjpzPgyjxFTgB0KxanE+GJHh5Tx12QRqpaiGaoYMqKHG1OyWjA09/XME1uoTM0usey87ua0oZEysptE7MBPZod4lYgM0kNGsWSaUZFVUTXGRR/y5sePDWeV0HLLaifqLkE3XR7TRKvTpSvRcrsGc0NopJFM64Mv+ZTF7jfmRbOScAgCq0BgJlWL4/jSd4voO0fTXXmHdMmyPiwv+EOAHV/mMGLK8Hq4b5xNCLyUxoLKIgaOLGFLmKXcnkH2dXFVswUluBmHnQNLT5wWtUgIsPXH2nesOE+PxBXKYgTbTevM1VitVSp2xpbrWTBFcOA2Y7Lu/IxXZWfhLlEOz8iPs41YN1xj3nn+NYsqGaBC3VsiKloqmdfg+VcHHS8r2fBcN/ENBIpNYFZVu6xaur1LDHx6ikYdWx+Ljqf2U4hebe5GyRF/CGDjy+xGbI1Y9hTjTNVib1+D3kBh/REDEB9nbSnuJbVbhBctEuhHes6QlDcMkQW2miS+ak0SePUal6iauYewfslKaZ9lRNQY6u0vUGmcImjMVbsV/ApeaLcIr4L2jfssj/MouS1B1EtPkuzkXpnkYpAoheqlmx8/5rGjTMyIi4IuyaJ5FpFGhzvRpF0v3LpQQVrVHAIimdU/2yy9Ob1TNFnLJuz6gW8gUAQCN6tqaizQXVT0bbHaRf8zYxAfSgRTp7t6PVZq3gxGWHTUUC6HGN+4o2rGYVmAEgknixj0zWjFStHrjTKrFhvKq8/Q48bFnqvJQoUdrQeyZF01cSlz8LLZq50zOzpb37yBz6Z3bkTUCpsuy8HigEgO4nKkliC0hFAWZ9R2baRcde+ZnObk1J385wJvq5woQkZNu8SbYr4RqRyyQkYUeeOUT5d5MzANPsUJXpcw4m6wgsIjtyL6kqy7jaZTNGVx4KSVjnMgUCAC161qBUIDV0EABEAABApHAKpWuJDBYRAAARAAgUwCULVMNLgAAiAAAiBQOAJQtcKFDA6DAAiAAAhkEoCqZaLBBRAAARAAgcIRgKoVLmRwGARAAARAIJMAVC0TDS6AAAiAAAgUjgBUrXAhg8MgAAIgAAKZBKBqmWhwAQRAAARAoHAEoGqFCxkcBgEQAAEQyCQAVctEgwsgAAIgAAKFIwBVK1zI4DAIgAAIgEAmAahaJhpcAAEQAAEQKBwBqFrhQgaHQQAEQAAEMglA1TLR4AIIgAAIgEDhCEDVChcyOAwCIAACIJBJAKqWiQYXQAAEQAAECkcAqla4kMFhEAABEACBTAJQtUw0uAACIAACIFA4AlC1woUMDoMACIAACGQS+H8q+RkVzsZKwQAAAABJRU5ErkJggg==)"
      ],
      "metadata": {
        "id": "0fkMbYypFduh"
      }
    },
    {
      "cell_type": "markdown",
      "source": [
        "SVC tries to find the best boundary (hyperplane) that separates two classes (e.g., pass vs. fail).\n",
        "\n",
        "Works well for both linear and non-linear relationships.\n",
        "\n",
        "Can be used with different kernels:\n",
        "\n",
        "\"linear\" → simple, fast\n",
        "\n",
        "\"rbf\" (radial) → handles curves\n",
        "\n",
        "\"poly\" → polynomial decision boundaries"
      ],
      "metadata": {
        "id": "GlSTHrGZRzeT"
      }
    },
    {
      "cell_type": "markdown",
      "source": [
        "## When to use:\n",
        "1. When you want to handle non-linear relationships with kernels.\n",
        "\n",
        "2. When robust to outliers.\n",
        "\n",
        "3. When data is high-dimensional.\n",
        "\n",
        "## When not to use:\n",
        "1. Large datasets (can be slow).\n",
        "\n",
        "2. When interpretability is a priority."
      ],
      "metadata": {
        "id": "T5CoU2UXFoea"
      }
    },
    {
      "cell_type": "markdown",
      "source": [
        "❌ SVM is NOT Easy to Interpret\n",
        "Support Vector Machines:\n",
        "\n",
        "Use mathematical distances from a hyperplane\n",
        "\n",
        "Create boundaries in high-dimensional space\n",
        "\n",
        "Often use non-linear kernels like rbf, where the decision function is very complex\n",
        "\n",
        "You can’t easily explain:\n",
        "\n",
        "“This student was predicted to pass because X, Y, Z…”\n",
        "\n",
        "Unlike logistic regression (with clear coefficients), SVM doesn’t give you that.\n",
        "\n"
      ],
      "metadata": {
        "id": "y9ryiToVST_Q"
      }
    },
    {
      "cell_type": "code",
      "source": [
        "import pandas as pd\n",
        "import numpy as np\n",
        "\n",
        "from sklearn.svm import SVC\n",
        "from sklearn.metrics import classification_report, confusion_matrix, accuracy_score\n",
        "from sklearn.preprocessing import StandardScaler\n",
        "\n",
        "\n",
        "from sklearn.model_selection import train_test_split\n",
        "# from sklearn.metrics import mean_squared_error, r2_score\n",
        "import seaborn as sns\n",
        "import matplotlib.pyplot as plt"
      ],
      "metadata": {
        "id": "6t77mCvizd8o"
      },
      "execution_count": null,
      "outputs": []
    },
    {
      "cell_type": "code",
      "source": [
        "from google.colab import drive\n",
        "drive.mount('/content/drive')\n",
        "\n",
        "df = pd.read_csv(\"/content/drive/MyDrive/final_student_data.csv\")  # Or use any built-in dataset\n",
        "df.head()"
      ],
      "metadata": {
        "colab": {
          "base_uri": "https://localhost:8080/",
          "height": 278
        },
        "id": "Yd4L9_DE0eC0",
        "outputId": "1bb4799d-e10b-4054-a7b6-54d12f982871"
      },
      "execution_count": null,
      "outputs": [
        {
          "output_type": "execute_result",
          "data": {
            "text/plain": [
              "   math score  reading score  writing score  total  gender_male  \\\n",
              "0          72             72             74    218        False   \n",
              "1          69             90             88    247        False   \n",
              "2          90             95             93    278        False   \n",
              "3          47             57             44    148         True   \n",
              "4          76             78             75    229         True   \n",
              "\n",
              "   race/ethnicity_group B  race/ethnicity_group C  race/ethnicity_group D  \\\n",
              "0                    True                   False                   False   \n",
              "1                   False                    True                   False   \n",
              "2                    True                   False                   False   \n",
              "3                   False                   False                   False   \n",
              "4                   False                    True                   False   \n",
              "\n",
              "   race/ethnicity_group E  parental level of education_bachelor's degree  \\\n",
              "0                   False                                           True   \n",
              "1                   False                                          False   \n",
              "2                   False                                          False   \n",
              "3                   False                                          False   \n",
              "4                   False                                          False   \n",
              "\n",
              "   parental level of education_high school  \\\n",
              "0                                    False   \n",
              "1                                    False   \n",
              "2                                    False   \n",
              "3                                    False   \n",
              "4                                    False   \n",
              "\n",
              "   parental level of education_master's degree  \\\n",
              "0                                        False   \n",
              "1                                        False   \n",
              "2                                         True   \n",
              "3                                        False   \n",
              "4                                        False   \n",
              "\n",
              "   parental level of education_some college  \\\n",
              "0                                     False   \n",
              "1                                      True   \n",
              "2                                     False   \n",
              "3                                     False   \n",
              "4                                      True   \n",
              "\n",
              "   parental level of education_some high school  lunch_standard  \\\n",
              "0                                         False            True   \n",
              "1                                         False            True   \n",
              "2                                         False            True   \n",
              "3                                         False           False   \n",
              "4                                         False            True   \n",
              "\n",
              "   test preparation course_none  \n",
              "0                          True  \n",
              "1                         False  \n",
              "2                          True  \n",
              "3                          True  \n",
              "4                          True  "
            ],
            "text/html": [
              "\n",
              "  <div id=\"df-c690befe-a8ac-411c-b0c6-850f4757ec3b\" class=\"colab-df-container\">\n",
              "    <div>\n",
              "<style scoped>\n",
              "    .dataframe tbody tr th:only-of-type {\n",
              "        vertical-align: middle;\n",
              "    }\n",
              "\n",
              "    .dataframe tbody tr th {\n",
              "        vertical-align: top;\n",
              "    }\n",
              "\n",
              "    .dataframe thead th {\n",
              "        text-align: right;\n",
              "    }\n",
              "</style>\n",
              "<table border=\"1\" class=\"dataframe\">\n",
              "  <thead>\n",
              "    <tr style=\"text-align: right;\">\n",
              "      <th></th>\n",
              "      <th>math score</th>\n",
              "      <th>reading score</th>\n",
              "      <th>writing score</th>\n",
              "      <th>total</th>\n",
              "      <th>gender_male</th>\n",
              "      <th>race/ethnicity_group B</th>\n",
              "      <th>race/ethnicity_group C</th>\n",
              "      <th>race/ethnicity_group D</th>\n",
              "      <th>race/ethnicity_group E</th>\n",
              "      <th>parental level of education_bachelor's degree</th>\n",
              "      <th>parental level of education_high school</th>\n",
              "      <th>parental level of education_master's degree</th>\n",
              "      <th>parental level of education_some college</th>\n",
              "      <th>parental level of education_some high school</th>\n",
              "      <th>lunch_standard</th>\n",
              "      <th>test preparation course_none</th>\n",
              "    </tr>\n",
              "  </thead>\n",
              "  <tbody>\n",
              "    <tr>\n",
              "      <th>0</th>\n",
              "      <td>72</td>\n",
              "      <td>72</td>\n",
              "      <td>74</td>\n",
              "      <td>218</td>\n",
              "      <td>False</td>\n",
              "      <td>True</td>\n",
              "      <td>False</td>\n",
              "      <td>False</td>\n",
              "      <td>False</td>\n",
              "      <td>True</td>\n",
              "      <td>False</td>\n",
              "      <td>False</td>\n",
              "      <td>False</td>\n",
              "      <td>False</td>\n",
              "      <td>True</td>\n",
              "      <td>True</td>\n",
              "    </tr>\n",
              "    <tr>\n",
              "      <th>1</th>\n",
              "      <td>69</td>\n",
              "      <td>90</td>\n",
              "      <td>88</td>\n",
              "      <td>247</td>\n",
              "      <td>False</td>\n",
              "      <td>False</td>\n",
              "      <td>True</td>\n",
              "      <td>False</td>\n",
              "      <td>False</td>\n",
              "      <td>False</td>\n",
              "      <td>False</td>\n",
              "      <td>False</td>\n",
              "      <td>True</td>\n",
              "      <td>False</td>\n",
              "      <td>True</td>\n",
              "      <td>False</td>\n",
              "    </tr>\n",
              "    <tr>\n",
              "      <th>2</th>\n",
              "      <td>90</td>\n",
              "      <td>95</td>\n",
              "      <td>93</td>\n",
              "      <td>278</td>\n",
              "      <td>False</td>\n",
              "      <td>True</td>\n",
              "      <td>False</td>\n",
              "      <td>False</td>\n",
              "      <td>False</td>\n",
              "      <td>False</td>\n",
              "      <td>False</td>\n",
              "      <td>True</td>\n",
              "      <td>False</td>\n",
              "      <td>False</td>\n",
              "      <td>True</td>\n",
              "      <td>True</td>\n",
              "    </tr>\n",
              "    <tr>\n",
              "      <th>3</th>\n",
              "      <td>47</td>\n",
              "      <td>57</td>\n",
              "      <td>44</td>\n",
              "      <td>148</td>\n",
              "      <td>True</td>\n",
              "      <td>False</td>\n",
              "      <td>False</td>\n",
              "      <td>False</td>\n",
              "      <td>False</td>\n",
              "      <td>False</td>\n",
              "      <td>False</td>\n",
              "      <td>False</td>\n",
              "      <td>False</td>\n",
              "      <td>False</td>\n",
              "      <td>False</td>\n",
              "      <td>True</td>\n",
              "    </tr>\n",
              "    <tr>\n",
              "      <th>4</th>\n",
              "      <td>76</td>\n",
              "      <td>78</td>\n",
              "      <td>75</td>\n",
              "      <td>229</td>\n",
              "      <td>True</td>\n",
              "      <td>False</td>\n",
              "      <td>True</td>\n",
              "      <td>False</td>\n",
              "      <td>False</td>\n",
              "      <td>False</td>\n",
              "      <td>False</td>\n",
              "      <td>False</td>\n",
              "      <td>True</td>\n",
              "      <td>False</td>\n",
              "      <td>True</td>\n",
              "      <td>True</td>\n",
              "    </tr>\n",
              "  </tbody>\n",
              "</table>\n",
              "</div>\n",
              "    <div class=\"colab-df-buttons\">\n",
              "\n",
              "  <div class=\"colab-df-container\">\n",
              "    <button class=\"colab-df-convert\" onclick=\"convertToInteractive('df-c690befe-a8ac-411c-b0c6-850f4757ec3b')\"\n",
              "            title=\"Convert this dataframe to an interactive table.\"\n",
              "            style=\"display:none;\">\n",
              "\n",
              "  <svg xmlns=\"http://www.w3.org/2000/svg\" height=\"24px\" viewBox=\"0 -960 960 960\">\n",
              "    <path d=\"M120-120v-720h720v720H120Zm60-500h600v-160H180v160Zm220 220h160v-160H400v160Zm0 220h160v-160H400v160ZM180-400h160v-160H180v160Zm440 0h160v-160H620v160ZM180-180h160v-160H180v160Zm440 0h160v-160H620v160Z\"/>\n",
              "  </svg>\n",
              "    </button>\n",
              "\n",
              "  <style>\n",
              "    .colab-df-container {\n",
              "      display:flex;\n",
              "      gap: 12px;\n",
              "    }\n",
              "\n",
              "    .colab-df-convert {\n",
              "      background-color: #E8F0FE;\n",
              "      border: none;\n",
              "      border-radius: 50%;\n",
              "      cursor: pointer;\n",
              "      display: none;\n",
              "      fill: #1967D2;\n",
              "      height: 32px;\n",
              "      padding: 0 0 0 0;\n",
              "      width: 32px;\n",
              "    }\n",
              "\n",
              "    .colab-df-convert:hover {\n",
              "      background-color: #E2EBFA;\n",
              "      box-shadow: 0px 1px 2px rgba(60, 64, 67, 0.3), 0px 1px 3px 1px rgba(60, 64, 67, 0.15);\n",
              "      fill: #174EA6;\n",
              "    }\n",
              "\n",
              "    .colab-df-buttons div {\n",
              "      margin-bottom: 4px;\n",
              "    }\n",
              "\n",
              "    [theme=dark] .colab-df-convert {\n",
              "      background-color: #3B4455;\n",
              "      fill: #D2E3FC;\n",
              "    }\n",
              "\n",
              "    [theme=dark] .colab-df-convert:hover {\n",
              "      background-color: #434B5C;\n",
              "      box-shadow: 0px 1px 3px 1px rgba(0, 0, 0, 0.15);\n",
              "      filter: drop-shadow(0px 1px 2px rgba(0, 0, 0, 0.3));\n",
              "      fill: #FFFFFF;\n",
              "    }\n",
              "  </style>\n",
              "\n",
              "    <script>\n",
              "      const buttonEl =\n",
              "        document.querySelector('#df-c690befe-a8ac-411c-b0c6-850f4757ec3b button.colab-df-convert');\n",
              "      buttonEl.style.display =\n",
              "        google.colab.kernel.accessAllowed ? 'block' : 'none';\n",
              "\n",
              "      async function convertToInteractive(key) {\n",
              "        const element = document.querySelector('#df-c690befe-a8ac-411c-b0c6-850f4757ec3b');\n",
              "        const dataTable =\n",
              "          await google.colab.kernel.invokeFunction('convertToInteractive',\n",
              "                                                    [key], {});\n",
              "        if (!dataTable) return;\n",
              "\n",
              "        const docLinkHtml = 'Like what you see? Visit the ' +\n",
              "          '<a target=\"_blank\" href=https://colab.research.google.com/notebooks/data_table.ipynb>data table notebook</a>'\n",
              "          + ' to learn more about interactive tables.';\n",
              "        element.innerHTML = '';\n",
              "        dataTable['output_type'] = 'display_data';\n",
              "        await google.colab.output.renderOutput(dataTable, element);\n",
              "        const docLink = document.createElement('div');\n",
              "        docLink.innerHTML = docLinkHtml;\n",
              "        element.appendChild(docLink);\n",
              "      }\n",
              "    </script>\n",
              "  </div>\n",
              "\n",
              "\n",
              "    <div id=\"df-7a46369a-21a7-467b-b071-b06192d42504\">\n",
              "      <button class=\"colab-df-quickchart\" onclick=\"quickchart('df-7a46369a-21a7-467b-b071-b06192d42504')\"\n",
              "                title=\"Suggest charts\"\n",
              "                style=\"display:none;\">\n",
              "\n",
              "<svg xmlns=\"http://www.w3.org/2000/svg\" height=\"24px\"viewBox=\"0 0 24 24\"\n",
              "     width=\"24px\">\n",
              "    <g>\n",
              "        <path d=\"M19 3H5c-1.1 0-2 .9-2 2v14c0 1.1.9 2 2 2h14c1.1 0 2-.9 2-2V5c0-1.1-.9-2-2-2zM9 17H7v-7h2v7zm4 0h-2V7h2v10zm4 0h-2v-4h2v4z\"/>\n",
              "    </g>\n",
              "</svg>\n",
              "      </button>\n",
              "\n",
              "<style>\n",
              "  .colab-df-quickchart {\n",
              "      --bg-color: #E8F0FE;\n",
              "      --fill-color: #1967D2;\n",
              "      --hover-bg-color: #E2EBFA;\n",
              "      --hover-fill-color: #174EA6;\n",
              "      --disabled-fill-color: #AAA;\n",
              "      --disabled-bg-color: #DDD;\n",
              "  }\n",
              "\n",
              "  [theme=dark] .colab-df-quickchart {\n",
              "      --bg-color: #3B4455;\n",
              "      --fill-color: #D2E3FC;\n",
              "      --hover-bg-color: #434B5C;\n",
              "      --hover-fill-color: #FFFFFF;\n",
              "      --disabled-bg-color: #3B4455;\n",
              "      --disabled-fill-color: #666;\n",
              "  }\n",
              "\n",
              "  .colab-df-quickchart {\n",
              "    background-color: var(--bg-color);\n",
              "    border: none;\n",
              "    border-radius: 50%;\n",
              "    cursor: pointer;\n",
              "    display: none;\n",
              "    fill: var(--fill-color);\n",
              "    height: 32px;\n",
              "    padding: 0;\n",
              "    width: 32px;\n",
              "  }\n",
              "\n",
              "  .colab-df-quickchart:hover {\n",
              "    background-color: var(--hover-bg-color);\n",
              "    box-shadow: 0 1px 2px rgba(60, 64, 67, 0.3), 0 1px 3px 1px rgba(60, 64, 67, 0.15);\n",
              "    fill: var(--button-hover-fill-color);\n",
              "  }\n",
              "\n",
              "  .colab-df-quickchart-complete:disabled,\n",
              "  .colab-df-quickchart-complete:disabled:hover {\n",
              "    background-color: var(--disabled-bg-color);\n",
              "    fill: var(--disabled-fill-color);\n",
              "    box-shadow: none;\n",
              "  }\n",
              "\n",
              "  .colab-df-spinner {\n",
              "    border: 2px solid var(--fill-color);\n",
              "    border-color: transparent;\n",
              "    border-bottom-color: var(--fill-color);\n",
              "    animation:\n",
              "      spin 1s steps(1) infinite;\n",
              "  }\n",
              "\n",
              "  @keyframes spin {\n",
              "    0% {\n",
              "      border-color: transparent;\n",
              "      border-bottom-color: var(--fill-color);\n",
              "      border-left-color: var(--fill-color);\n",
              "    }\n",
              "    20% {\n",
              "      border-color: transparent;\n",
              "      border-left-color: var(--fill-color);\n",
              "      border-top-color: var(--fill-color);\n",
              "    }\n",
              "    30% {\n",
              "      border-color: transparent;\n",
              "      border-left-color: var(--fill-color);\n",
              "      border-top-color: var(--fill-color);\n",
              "      border-right-color: var(--fill-color);\n",
              "    }\n",
              "    40% {\n",
              "      border-color: transparent;\n",
              "      border-right-color: var(--fill-color);\n",
              "      border-top-color: var(--fill-color);\n",
              "    }\n",
              "    60% {\n",
              "      border-color: transparent;\n",
              "      border-right-color: var(--fill-color);\n",
              "    }\n",
              "    80% {\n",
              "      border-color: transparent;\n",
              "      border-right-color: var(--fill-color);\n",
              "      border-bottom-color: var(--fill-color);\n",
              "    }\n",
              "    90% {\n",
              "      border-color: transparent;\n",
              "      border-bottom-color: var(--fill-color);\n",
              "    }\n",
              "  }\n",
              "</style>\n",
              "\n",
              "      <script>\n",
              "        async function quickchart(key) {\n",
              "          const quickchartButtonEl =\n",
              "            document.querySelector('#' + key + ' button');\n",
              "          quickchartButtonEl.disabled = true;  // To prevent multiple clicks.\n",
              "          quickchartButtonEl.classList.add('colab-df-spinner');\n",
              "          try {\n",
              "            const charts = await google.colab.kernel.invokeFunction(\n",
              "                'suggestCharts', [key], {});\n",
              "          } catch (error) {\n",
              "            console.error('Error during call to suggestCharts:', error);\n",
              "          }\n",
              "          quickchartButtonEl.classList.remove('colab-df-spinner');\n",
              "          quickchartButtonEl.classList.add('colab-df-quickchart-complete');\n",
              "        }\n",
              "        (() => {\n",
              "          let quickchartButtonEl =\n",
              "            document.querySelector('#df-7a46369a-21a7-467b-b071-b06192d42504 button');\n",
              "          quickchartButtonEl.style.display =\n",
              "            google.colab.kernel.accessAllowed ? 'block' : 'none';\n",
              "        })();\n",
              "      </script>\n",
              "    </div>\n",
              "\n",
              "    </div>\n",
              "  </div>\n"
            ],
            "application/vnd.google.colaboratory.intrinsic+json": {
              "type": "dataframe",
              "variable_name": "df",
              "summary": "{\n  \"name\": \"df\",\n  \"rows\": 1000,\n  \"fields\": [\n    {\n      \"column\": \"math score\",\n      \"properties\": {\n        \"dtype\": \"number\",\n        \"std\": 15,\n        \"min\": 0,\n        \"max\": 100,\n        \"num_unique_values\": 81,\n        \"samples\": [\n          55,\n          72,\n          70\n        ],\n        \"semantic_type\": \"\",\n        \"description\": \"\"\n      }\n    },\n    {\n      \"column\": \"reading score\",\n      \"properties\": {\n        \"dtype\": \"number\",\n        \"std\": 14,\n        \"min\": 17,\n        \"max\": 100,\n        \"num_unique_values\": 72,\n        \"samples\": [\n          78,\n          23,\n          69\n        ],\n        \"semantic_type\": \"\",\n        \"description\": \"\"\n      }\n    },\n    {\n      \"column\": \"writing score\",\n      \"properties\": {\n        \"dtype\": \"number\",\n        \"std\": 15,\n        \"min\": 10,\n        \"max\": 100,\n        \"num_unique_values\": 77,\n        \"samples\": [\n          75,\n          76,\n          52\n        ],\n        \"semantic_type\": \"\",\n        \"description\": \"\"\n      }\n    },\n    {\n      \"column\": \"total\",\n      \"properties\": {\n        \"dtype\": \"number\",\n        \"std\": 42,\n        \"min\": 27,\n        \"max\": 300,\n        \"num_unique_values\": 194,\n        \"samples\": [\n          250,\n          78,\n          256\n        ],\n        \"semantic_type\": \"\",\n        \"description\": \"\"\n      }\n    },\n    {\n      \"column\": \"gender_male\",\n      \"properties\": {\n        \"dtype\": \"boolean\",\n        \"num_unique_values\": 2,\n        \"samples\": [\n          true,\n          false\n        ],\n        \"semantic_type\": \"\",\n        \"description\": \"\"\n      }\n    },\n    {\n      \"column\": \"race/ethnicity_group B\",\n      \"properties\": {\n        \"dtype\": \"boolean\",\n        \"num_unique_values\": 2,\n        \"samples\": [\n          false,\n          true\n        ],\n        \"semantic_type\": \"\",\n        \"description\": \"\"\n      }\n    },\n    {\n      \"column\": \"race/ethnicity_group C\",\n      \"properties\": {\n        \"dtype\": \"boolean\",\n        \"num_unique_values\": 2,\n        \"samples\": [\n          true,\n          false\n        ],\n        \"semantic_type\": \"\",\n        \"description\": \"\"\n      }\n    },\n    {\n      \"column\": \"race/ethnicity_group D\",\n      \"properties\": {\n        \"dtype\": \"boolean\",\n        \"num_unique_values\": 2,\n        \"samples\": [\n          true,\n          false\n        ],\n        \"semantic_type\": \"\",\n        \"description\": \"\"\n      }\n    },\n    {\n      \"column\": \"race/ethnicity_group E\",\n      \"properties\": {\n        \"dtype\": \"boolean\",\n        \"num_unique_values\": 2,\n        \"samples\": [\n          true,\n          false\n        ],\n        \"semantic_type\": \"\",\n        \"description\": \"\"\n      }\n    },\n    {\n      \"column\": \"parental level of education_bachelor's degree\",\n      \"properties\": {\n        \"dtype\": \"boolean\",\n        \"num_unique_values\": 2,\n        \"samples\": [\n          false,\n          true\n        ],\n        \"semantic_type\": \"\",\n        \"description\": \"\"\n      }\n    },\n    {\n      \"column\": \"parental level of education_high school\",\n      \"properties\": {\n        \"dtype\": \"boolean\",\n        \"num_unique_values\": 2,\n        \"samples\": [\n          true,\n          false\n        ],\n        \"semantic_type\": \"\",\n        \"description\": \"\"\n      }\n    },\n    {\n      \"column\": \"parental level of education_master's degree\",\n      \"properties\": {\n        \"dtype\": \"boolean\",\n        \"num_unique_values\": 2,\n        \"samples\": [\n          true,\n          false\n        ],\n        \"semantic_type\": \"\",\n        \"description\": \"\"\n      }\n    },\n    {\n      \"column\": \"parental level of education_some college\",\n      \"properties\": {\n        \"dtype\": \"boolean\",\n        \"num_unique_values\": 2,\n        \"samples\": [\n          true,\n          false\n        ],\n        \"semantic_type\": \"\",\n        \"description\": \"\"\n      }\n    },\n    {\n      \"column\": \"parental level of education_some high school\",\n      \"properties\": {\n        \"dtype\": \"boolean\",\n        \"num_unique_values\": 2,\n        \"samples\": [\n          true,\n          false\n        ],\n        \"semantic_type\": \"\",\n        \"description\": \"\"\n      }\n    },\n    {\n      \"column\": \"lunch_standard\",\n      \"properties\": {\n        \"dtype\": \"boolean\",\n        \"num_unique_values\": 2,\n        \"samples\": [\n          false,\n          true\n        ],\n        \"semantic_type\": \"\",\n        \"description\": \"\"\n      }\n    },\n    {\n      \"column\": \"test preparation course_none\",\n      \"properties\": {\n        \"dtype\": \"boolean\",\n        \"num_unique_values\": 2,\n        \"samples\": [\n          false,\n          true\n        ],\n        \"semantic_type\": \"\",\n        \"description\": \"\"\n      }\n    }\n  ]\n}"
            }
          },
          "metadata": {},
          "execution_count": 14
        }
      ]
    },
    {
      "cell_type": "code",
      "source": [
        "df['passed'] = (df['total'] >= 150).astype(int)\n"
      ],
      "metadata": {
        "id": "67BpXZqNTVj_"
      },
      "execution_count": null,
      "outputs": []
    },
    {
      "cell_type": "code",
      "source": [
        "X = df.drop(columns=['math score', 'reading score', 'writing score', 'total','passed'])  # or keep only relevant\n",
        "y = df['passed']                 # binary target\n"
      ],
      "metadata": {
        "id": "amrApr770gD5"
      },
      "execution_count": null,
      "outputs": []
    },
    {
      "cell_type": "code",
      "source": [
        "X_train, X_test, y_train, y_test = train_test_split(X, y, test_size=0.2, random_state=42)"
      ],
      "metadata": {
        "id": "0Qwr7qhi0jWr"
      },
      "execution_count": null,
      "outputs": []
    },
    {
      "cell_type": "code",
      "source": [
        "# Scale features\n",
        "scaler = StandardScaler()\n",
        "X_train = scaler.fit_transform(X_train)\n",
        "X_test = scaler.transform(X_test)"
      ],
      "metadata": {
        "id": "ODm7aGY-M60E"
      },
      "execution_count": null,
      "outputs": []
    },
    {
      "cell_type": "code",
      "source": [
        "# Use radial kernel by default\n",
        "svc = SVC(kernel='rbf', probability=True)\n",
        "svc.fit(X_train, y_train)\n",
        "\n",
        "# Predict labels\n",
        "y_pred = svc.predict(X_test)"
      ],
      "metadata": {
        "id": "fNmGbzs_Ubqe"
      },
      "execution_count": null,
      "outputs": []
    },
    {
      "cell_type": "code",
      "source": [
        "# Predict labels\n",
        "y_pred = svc.predict(X_test)"
      ],
      "metadata": {
        "id": "LQnmeAFU0vmu"
      },
      "execution_count": null,
      "outputs": []
    },
    {
      "cell_type": "code",
      "source": [
        "from sklearn.metrics import accuracy_score\n",
        "print(\"Accuracy:\", accuracy_score(y_test, y_pred))"
      ],
      "metadata": {
        "colab": {
          "base_uri": "https://localhost:8080/"
        },
        "id": "Hz_Sah3fVl37",
        "outputId": "0122d662-a4a9-4f35-87e9-ec09b75b01ee"
      },
      "execution_count": null,
      "outputs": [
        {
          "output_type": "stream",
          "name": "stdout",
          "text": [
            "Accuracy: 0.865\n"
          ]
        }
      ]
    },
    {
      "cell_type": "code",
      "source": [
        "# Evaluation\n",
        "print(\"Confusion Matrix:\")\n",
        "print(confusion_matrix(y_test, y_pred))\n",
        "print(\"\\nClassification Report:\")\n",
        "print(classification_report(y_test, y_pred))\n",
        "print(\"Accuracy:\", accuracy_score(y_test, y_pred))"
      ],
      "metadata": {
        "colab": {
          "base_uri": "https://localhost:8080/"
        },
        "id": "t4Lcw93e046q",
        "outputId": "fc9b0ffb-e1da-4804-950d-a14344777417"
      },
      "execution_count": null,
      "outputs": [
        {
          "output_type": "stream",
          "name": "stdout",
          "text": [
            "Confusion Matrix:\n",
            "[[  0  27]\n",
            " [  0 173]]\n",
            "\n",
            "Classification Report:\n",
            "              precision    recall  f1-score   support\n",
            "\n",
            "           0       0.00      0.00      0.00        27\n",
            "           1       0.86      1.00      0.93       173\n",
            "\n",
            "    accuracy                           0.86       200\n",
            "   macro avg       0.43      0.50      0.46       200\n",
            "weighted avg       0.75      0.86      0.80       200\n",
            "\n",
            "Accuracy: 0.865\n"
          ]
        },
        {
          "output_type": "stream",
          "name": "stderr",
          "text": [
            "/usr/local/lib/python3.11/dist-packages/sklearn/metrics/_classification.py:1565: UndefinedMetricWarning: Precision is ill-defined and being set to 0.0 in labels with no predicted samples. Use `zero_division` parameter to control this behavior.\n",
            "  _warn_prf(average, modifier, f\"{metric.capitalize()} is\", len(result))\n",
            "/usr/local/lib/python3.11/dist-packages/sklearn/metrics/_classification.py:1565: UndefinedMetricWarning: Precision is ill-defined and being set to 0.0 in labels with no predicted samples. Use `zero_division` parameter to control this behavior.\n",
            "  _warn_prf(average, modifier, f\"{metric.capitalize()} is\", len(result))\n",
            "/usr/local/lib/python3.11/dist-packages/sklearn/metrics/_classification.py:1565: UndefinedMetricWarning: Precision is ill-defined and being set to 0.0 in labels with no predicted samples. Use `zero_division` parameter to control this behavior.\n",
            "  _warn_prf(average, modifier, f\"{metric.capitalize()} is\", len(result))\n"
          ]
        }
      ]
    },
    {
      "cell_type": "markdown",
      "source": [
        "## A code for all kernels, to get the best one"
      ],
      "metadata": {
        "id": "Hu11SVD2XKoz"
      }
    },
    {
      "cell_type": "code",
      "source": [
        "kernels = ['linear', 'poly', 'rbf', 'sigmoid']\n",
        "\n",
        "for k in kernels:\n",
        "    print(f\"\\n--- Kernel: {k.upper()} ---\")\n",
        "    if k == 'poly':\n",
        "        model = SVC(kernel=k, degree=3, probability=True)  # degree can be tuned\n",
        "    else:\n",
        "        model = SVC(kernel=k, probability=True)\n",
        "\n",
        "    model.fit(X_train, y_train)\n",
        "    y_pred = model.predict(X_test)\n",
        "\n",
        "    print(\"Accuracy:\", accuracy_score(y_test, y_pred))\n"
      ],
      "metadata": {
        "colab": {
          "base_uri": "https://localhost:8080/"
        },
        "id": "g6Q5hnpeXFbd",
        "outputId": "297574e3-4d19-4156-9edd-41b462c833f1"
      },
      "execution_count": null,
      "outputs": [
        {
          "output_type": "stream",
          "name": "stdout",
          "text": [
            "\n",
            "--- Kernel: LINEAR ---\n",
            "Accuracy: 0.865\n",
            "\n",
            "--- Kernel: POLY ---\n",
            "Accuracy: 0.865\n",
            "\n",
            "--- Kernel: RBF ---\n",
            "Accuracy: 0.865\n",
            "\n",
            "--- Kernel: SIGMOID ---\n",
            "Accuracy: 0.865\n"
          ]
        }
      ]
    },
    {
      "cell_type": "markdown",
      "source": [
        "## Plotting our results"
      ],
      "metadata": {
        "id": "QJQVJ3bjXdI1"
      }
    },
    {
      "cell_type": "code",
      "source": [
        "from sklearn.metrics import roc_curve, roc_auc_score\n",
        "import matplotlib.pyplot as plt\n",
        "\n",
        "y_prob = svc.predict_proba(X_test)[:, 1]\n",
        "\n",
        "fpr, tpr, thresholds = roc_curve(y_test, y_prob)\n",
        "auc = roc_auc_score(y_test, y_prob)\n",
        "\n",
        "plt.figure(figsize=(6, 4))\n",
        "plt.plot(fpr, tpr, label=f\"ROC Curve (AUC = {auc:.2f})\", color='darkgreen')\n",
        "plt.plot([0, 1], [0, 1], linestyle='--', color='gray')\n",
        "plt.xlabel(\"False Positive Rate\")\n",
        "plt.ylabel(\"True Positive Rate\")\n",
        "plt.title(\"ROC Curve - SVM\")\n",
        "plt.legend()\n",
        "plt.grid(True)\n",
        "plt.show()\n"
      ],
      "metadata": {
        "colab": {
          "base_uri": "https://localhost:8080/",
          "height": 410
        },
        "id": "fcTOaLas07xV",
        "outputId": "7d52f9c9-1bc4-4c0d-a27c-671219d13750"
      },
      "execution_count": null,
      "outputs": [
        {
          "output_type": "display_data",
          "data": {
            "text/plain": [
              "<Figure size 600x400 with 1 Axes>"
            ],
            "image/png": "[encoded data removed]"
          },
          "metadata": {}
        }
      ]
    },
    {
      "cell_type": "code",
      "source": [
        "# Get confusion matrix\n",
        "cm = confusion_matrix(y_test, y_pred)\n",
        "\n",
        "# Plot\n",
        "plt.figure(figsize=(5,4))\n",
        "sns.heatmap(cm, annot=True, fmt='d', cmap='Blues', xticklabels=['Fail', 'Pass'], yticklabels=['Fail', 'Pass'])\n",
        "plt.xlabel('Predicted')\n",
        "plt.ylabel('Actual')\n",
        "plt.title('Confusion Matrix - Logistic Regression')\n",
        "plt.show()"
      ],
      "metadata": {
        "colab": {
          "base_uri": "https://localhost:8080/",
          "height": 410
        },
        "id": "tLc5IkOsOHLX",
        "outputId": "d4ea8dd9-0acb-4d3d-e011-3318b4b13fc5"
      },
      "execution_count": null,
      "outputs": [
        {
          "output_type": "display_data",
          "data": {
            "text/plain": [
              "<Figure size 500x400 with 2 Axes>"
            ],
            "image/png": "[encoded data removed]"
          },
          "metadata": {}
        }
      ]
    },
    {
      "cell_type": "markdown",
      "source": [
        "# 🧠 What Is a Kernel?\n",
        "A kernel is a mathematical function that transforms your data into a higher-dimensional space so that it becomes linearly separable.\n",
        "\n",
        "## ✅ Why do we need it?\n",
        "Because:\n",
        "\n",
        "1. Some datasets can’t be separated by a straight line (like a circle inside a circle)\n",
        "\n",
        "2. SVM needs to find a hyperplane (straight boundary) to separate classes\n",
        "\n",
        "3. A kernel allows SVM to find complex, curved decision boundaries without manually transforming your data\n",
        "\n",
        "🎨 Simple Example (Visual)\n",
        "Imagine this data in 2D:\n",
        "🟠 = Class 0\n",
        "🔵 = Class 1\n",
        "\n",
        "\n",
        "\n",
        "🔵🔵🔵\n",
        "🔵🟠🔵\n",
        "🔵🔵🔵\n",
        "\n",
        "\n",
        "There’s no straight line that can cleanly separate 🟠 and 🔵.\n",
        "\n",
        "But if you transform the data into a new space (e.g., 3D), now a plane can separate them.\n",
        "\n",
        "The kernel function does that for you automatically, behind the scenes.\n",
        "\n",
        "## Common Kernel Types in SVM\n",
        "\n",
        "1. Linear\tNo transformation; finds straight-line separation\tWhen data is already linearly separable\n",
        "\n",
        "2. RBF (Radial Basis Function)\tTransforms data using Gaussian similarity\tWhen classes are not linearly separable\n",
        "\n",
        "3. Polynomial\tTransforms to curved boundaries using polynomials\tWhen relationships involve curved interactions\n",
        "\n",
        "4. Sigmoid\tLike a neural network activation function\tRarely used; not common in practice"
      ],
      "metadata": {
        "id": "7Na0tiS0UD7w"
      }
    }
  ]
}
